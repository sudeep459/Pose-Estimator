{
 "cells": [
  {
   "cell_type": "code",
   "execution_count": 1,
   "id": "824485bf",
   "metadata": {},
   "outputs": [],
   "source": [
    "import tensorflow as tf\n",
    "import tensorflow_hub as hub\n",
    "from matplotlib import pyplot as plt\n",
    "import cv2\n",
    "import numpy as np"
   ]
  },
  {
   "cell_type": "code",
   "execution_count": 2,
   "id": "62ff60c4",
   "metadata": {},
   "outputs": [],
   "source": [
    "# Optional if you are using a GPU\n",
    "gpus = tf.config.experimental.list_physical_devices('GPU')\n",
    "for gpu in gpus:\n",
    "    tf.config.experimental.set_memory_growth(gpu, True)"
   ]
  },
  {
   "cell_type": "code",
   "execution_count": 3,
   "id": "4e448b31",
   "metadata": {},
   "outputs": [],
   "source": [
    "model = hub.load(\"https://tfhub.dev/google/movenet/singlepose/thunder/4\")\n",
    "movenet = model.signatures['serving_default']"
   ]
  },
  {
   "cell_type": "code",
   "execution_count": 4,
   "id": "b9cadeb4",
   "metadata": {},
   "outputs": [],
   "source": [
    "def draw_keypoints(frame, keypoints, confidence_threshold):\n",
    "    y, x, c = frame.shape\n",
    "    shaped = np.squeeze(np.multiply(keypoints, [y,x,1]))\n",
    "    \n",
    "    for kp in shaped:\n",
    "        ky, kx, kp_conf = kp\n",
    "        if kp_conf > confidence_threshold:\n",
    "            cv2.circle(frame, (int(kx), int(ky)), 4, (255,255,255), -1) "
   ]
  },
  {
   "cell_type": "code",
   "execution_count": 5,
   "id": "d6a16fa2",
   "metadata": {},
   "outputs": [],
   "source": [
    "EDGES = {\n",
    "    (0, 1): 'm',\n",
    "    (0, 2): 'c',\n",
    "    (1, 3): 'm',\n",
    "    (2, 4): 'c',\n",
    "    (0, 5): 'm',\n",
    "    (0, 6): 'c',\n",
    "    (5, 7): 'm',\n",
    "    (7, 9): 'm',\n",
    "    (6, 8): 'c',\n",
    "    (8, 10): 'c',\n",
    "    (5, 6): 'y',\n",
    "    (5, 11): 'm',\n",
    "    (6, 12): 'c',\n",
    "    (11, 12): 'y',\n",
    "    (11, 13): 'm',\n",
    "    (13, 15): 'm',\n",
    "    (12, 14): 'c',\n",
    "    (14, 16): 'c'\n",
    "}"
   ]
  },
  {
   "cell_type": "code",
   "execution_count": 6,
   "id": "b2f7a245",
   "metadata": {},
   "outputs": [],
   "source": [
    "def draw_connections(frame, keypoints, edges, confidence_threshold, color):\n",
    "    y, x, c = frame.shape\n",
    "    shaped = np.squeeze(np.multiply(keypoints, [y,x,1]))\n",
    "    for edge, color in edges.items():\n",
    "        p1, p2 = edge\n",
    "        y1, x1, c1 = shaped[p1]\n",
    "        y2, x2, c2 = shaped[p2]\n",
    "        \n",
    "        if (c1 > confidence_threshold) & (c2 > confidence_threshold):      \n",
    "            cv2.line(frame, (int(x1), int(y1)), (int(x2), int(y2)), color, 2)"
   ]
  },
  {
   "cell_type": "code",
   "execution_count": 7,
   "id": "2c81ae8c",
   "metadata": {},
   "outputs": [],
   "source": [
    "def calculate_angle(a,b,c):\n",
    "    a = np.array(a) # First\n",
    "    b = np.array(b) # Mid\n",
    "    c = np.array(c) # End\n",
    "    \n",
    "    radians = np.arctan2(c[1]-b[1], c[0]-b[0]) - np.arctan2(a[1]-b[1], a[0]-b[0])\n",
    "    angle = np.abs(radians*180.0/np.pi)\n",
    "    \n",
    "    if angle >180.0:\n",
    "        angle = 360-angle\n",
    "        \n",
    "    return angle "
   ]
  },
  {
   "cell_type": "code",
   "execution_count": 8,
   "id": "6c7944cf",
   "metadata": {},
   "outputs": [],
   "source": [
    "cap = cv2.VideoCapture('Videos/squat.mp4')\n",
    "stage = None\n",
    "state = None\n",
    "while cap.isOpened():\n",
    "    ret, frame = cap.read()\n",
    "    \n",
    "    # Reshape image\n",
    "    img = frame.copy()\n",
    "    img = tf.image.resize_with_pad(tf.expand_dims(img, axis=0),256,256)\n",
    "    input_image = tf.cast(img, dtype=tf.int32)\n",
    "    \n",
    "    # Setup input and output \n",
    "    outputs = movenet(input_image)\n",
    "    \n",
    "    # Make predictions \n",
    "    keypoints_with_scores = outputs['output_0']\n",
    "    \n",
    "    # Calculate angles\n",
    "    y, x, c = frame.shape\n",
    "    shaped = np.squeeze(np.multiply(keypoints_with_scores, [y,x,1]))\n",
    "    try:\n",
    "        shoulder = [shaped[5][1], shaped[5][0]]\n",
    "        hip = [shaped[11][1], shaped[11][0]]\n",
    "        knee = [shaped[13][1], shaped[13][0]]\n",
    "        ankle = [shaped[15][1], shaped[15][0]]\n",
    "\n",
    "        \n",
    "        angle = calculate_angle(shoulder, hip, knee)\n",
    "        cv2.putText(frame, str(angle),(int(hip[0]), int(hip[1])), \n",
    "                    cv2.FONT_HERSHEY_SIMPLEX, 0.5, (0, 0, 0), 2, cv2.LINE_AA)\n",
    "\n",
    "        angle2 = calculate_angle(hip, knee, ankle)\n",
    "        cv2.putText(frame, str(angle2),(int(knee[0]), int(knee[1])), \n",
    "                cv2.FONT_HERSHEY_SIMPLEX, 0.5, (0, 0, 0), 2, cv2.LINE_AA)\n",
    "        #squat logic\n",
    "        if ((angle > 40) & (angle < 55)) | ((angle2 > 50) & (angle2 < 55)):\n",
    "            stage = 'Good Squat'\n",
    "            state = 2\n",
    "        elif (angle < 40) | (angle2 < 50):\n",
    "            stage = 'Over Squat'\n",
    "            state = 3\n",
    "        elif (angle > 55) & (angle < 100):\n",
    "            stage = 'Squat more'\n",
    "            state = 1\n",
    "        else:\n",
    "            stage = 'Not squatted'\n",
    "            state = 0\n",
    "            \n",
    "    except:\n",
    "        pass\n",
    "    \n",
    "    # Stage data\n",
    "    if state == 2:\n",
    "        cv2.rectangle(frame, (0,0), (400,73), (245,117,16), -1)\n",
    "        cv2.putText(frame, stage, \n",
    "                    (20,50), \n",
    "                    cv2.FONT_HERSHEY_SIMPLEX, 2, (255,255,255), 2, cv2.LINE_AA)\n",
    "    if state == 1:\n",
    "        cv2.putText(frame, stage, \n",
    "                    (20,50), \n",
    "                    cv2.FONT_HERSHEY_SIMPLEX, 2, (255,255,255), 2, cv2.LINE_AA)\n",
    "\n",
    "    # Rendering \n",
    "    confidence_threshold = 0.3\n",
    "    if state == 0:\n",
    "        y, x, c = frame.shape\n",
    "        shaped = np.squeeze(np.multiply(keypoints_with_scores, [y,x,1]))\n",
    "        for edge, color in EDGES.items():\n",
    "            p1, p2 = edge\n",
    "            y1, x1, c1 = shaped[p1]\n",
    "            y2, x2, c2 = shaped[p2]\n",
    "\n",
    "            if (c1 > confidence_threshold) & (c2 > confidence_threshold):      \n",
    "                cv2.line(frame, (int(x1), int(y1)), (int(x2), int(y2)), (255,204,153), 2)\n",
    "    elif state == 1:\n",
    "        y, x, c = frame.shape\n",
    "        shaped = np.squeeze(np.multiply(keypoints_with_scores, [y,x,1]))\n",
    "        for edge, color in EDGES.items():\n",
    "            p1, p2 = edge\n",
    "            y1, x1, c1 = shaped[p1]\n",
    "            y2, x2, c2 = shaped[p2]\n",
    "\n",
    "            if (c1 > confidence_threshold) & (c2 > confidence_threshold):      \n",
    "                cv2.line(frame, (int(x1), int(y1)), (int(x2), int(y2)), (0,255,255), 2)\n",
    "    elif state == 2:\n",
    "        y, x, c = frame.shape\n",
    "        shaped = np.squeeze(np.multiply(keypoints_with_scores, [y,x,1]))\n",
    "        for edge, color in EDGES.items():\n",
    "            p1, p2 = edge\n",
    "            y1, x1, c1 = shaped[p1]\n",
    "            y2, x2, c2 = shaped[p2]\n",
    "\n",
    "            if (c1 > confidence_threshold) & (c2 > confidence_threshold):      \n",
    "                cv2.line(frame, (int(x1), int(y1)), (int(x2), int(y2)), (0,255,0), 2)\n",
    "    else:\n",
    "        y, x, c = frame.shape\n",
    "        shaped = np.squeeze(np.multiply(keypoints_with_scores, [y,x,1]))\n",
    "        for edge, color in EDGES.items():\n",
    "            p1, p2 = edge\n",
    "            y1, x1, c1 = shaped[p1]\n",
    "            y2, x2, c2 = shaped[p2]\n",
    "\n",
    "            if (c1 > confidence_threshold) & (c2 > confidence_threshold):      \n",
    "                cv2.line(frame, (int(x1), int(y1)), (int(x2), int(y2)), (0,0,255), 2)\n",
    "    draw_keypoints(frame, keypoints_with_scores, 0.3)\n",
    "    \n",
    "    cv2.imshow('MoveNet Thunder', frame)\n",
    "    \n",
    "    if cv2.waitKey(10) & 0xFF==ord('q'):\n",
    "        break\n",
    "        \n",
    "cap.release()\n",
    "cv2.destroyAllWindows()"
   ]
  },
  {
   "cell_type": "code",
   "execution_count": 9,
   "id": "06f6d0be",
   "metadata": {},
   "outputs": [
    {
     "data": {
      "text/plain": [
       "(480, 640, 3)"
      ]
     },
     "execution_count": 9,
     "metadata": {},
     "output_type": "execute_result"
    }
   ],
   "source": [
    "frame.shape"
   ]
  },
  {
   "cell_type": "code",
   "execution_count": null,
   "id": "e004dc26",
   "metadata": {},
   "outputs": [],
   "source": []
  },
  {
   "cell_type": "code",
   "execution_count": null,
   "id": "0c83d408",
   "metadata": {},
   "outputs": [],
   "source": []
  },
  {
   "cell_type": "code",
   "execution_count": null,
   "id": "e7d4beb6",
   "metadata": {},
   "outputs": [],
   "source": []
  },
  {
   "cell_type": "code",
   "execution_count": null,
   "id": "7d1c76c0",
   "metadata": {},
   "outputs": [],
   "source": []
  },
  {
   "cell_type": "code",
   "execution_count": null,
   "id": "77a9fe42",
   "metadata": {},
   "outputs": [],
   "source": []
  },
  {
   "cell_type": "code",
   "execution_count": null,
   "id": "39b0f58b",
   "metadata": {},
   "outputs": [],
   "source": []
  },
  {
   "cell_type": "code",
   "execution_count": null,
   "id": "72f8ca28",
   "metadata": {},
   "outputs": [],
   "source": []
  },
  {
   "cell_type": "code",
   "execution_count": null,
   "id": "5d51502f",
   "metadata": {},
   "outputs": [],
   "source": []
  }
 ],
 "metadata": {
  "kernelspec": {
   "display_name": "Python 3 (ipykernel)",
   "language": "python",
   "name": "python3"
  },
  "language_info": {
   "codemirror_mode": {
    "name": "ipython",
    "version": 3
   },
   "file_extension": ".py",
   "mimetype": "text/x-python",
   "name": "python",
   "nbconvert_exporter": "python",
   "pygments_lexer": "ipython3",
   "version": "3.9.7"
  }
 },
 "nbformat": 4,
 "nbformat_minor": 5
}
